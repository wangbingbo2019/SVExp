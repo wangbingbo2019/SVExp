{
 "cells": [
  {
   "cell_type": "code",
   "execution_count": 1,
   "id": "3397d41f-4d1a-49c7-88f6-72cea0ce8aa4",
   "metadata": {},
   "outputs": [],
   "source": [
    "import os\n",
    "import pandas as pd\n",
    "import numpy as np\n",
    "import anndata as ad\n",
    "import h5py\n",
    "import json\n",
    "from SVExp import *"
   ]
  },
  {
   "cell_type": "code",
   "execution_count": null,
   "id": "51702a7d-cf6f-4d87-a1fc-3508a4d0f5c1",
   "metadata": {},
   "outputs": [
    {
     "name": "stderr",
     "output_type": "stream",
     "text": [
      "  0%|                                                   | 0/100 [09:57<?, ?it/s]"
     ]
    }
   ],
   "source": [
    "### MODE: 1. Data generating; 2. Tools validating.\n",
    "MODE = 2\n",
    "\n",
    "if MODE == 1:\n",
    "    ### Path and settings\n",
    "    dataset_name = 'your_data'\n",
    "    data_dir = './'+dataset_name+'/' # Real data path\n",
    "    out_dir = './simulation_SVExp/'\n",
    "    sim_dir = out_dir+str(dataset_name)+'/' # Simulated data path\n",
    "    species = 'human'\n",
    "    target_domain = [['1'],['2'],['3'],['4']] # ROI\n",
    "    target_correlation = [0, 1, 2, 3] # Correlation corresponding to ROI. 0: negative linear; 1: positive linear; 2: non-linear; 3: mixed\n",
    "    simulate_nums = [100, 100, 100, 100] # SVI numbers you want to generate for each patterns\n",
    "    l_range = [[3, 3.3]] # alpha_1 and alpha_2's range\n",
    "    noise_level = [0] # Noise level of Simulated data, from 0 to 1\n",
    "    \n",
    "    ### Input your ST data\n",
    "    print('reading data...')\n",
    "    df_count = pd.read_csv(data_dir+'count.csv', sep='\\t', index_col=0) # gene expression data\n",
    "    df_count.index = [str(x) for x in df_count.index]\n",
    "    loc = pd.read_csv(data_dir+'loc.csv', sep='\\t', index_col=0) # spot location data\n",
    "    loc.index = [str(x) for x in loc.index]\n",
    "    loc = loc.loc[df_count.index]\n",
    "    df_domain = pd.read_excel(data_dir+'domain.xlsx', header=0, index_col=0) # spot labels for ROI selecting\n",
    "    df_domain.index = [str(x) for x in df_domain.index]\n",
    "\n",
    "    ### Generate synthetic data\n",
    "    if not os.path.exists(sim_dir):\n",
    "        os.makedirs(sim_dir)\n",
    "    data_generate(species, df_count, loc, df_domain, target_domain, target_correlation, l_range, noise_level, simulate_nums, sim_dir)\n",
    "\n",
    "elif MODE == 2:\n",
    "    dataset_name = 'your_data'\n",
    "    tool_res_dir = 'your_path'\n",
    "    lr_file=tool_res_dir+'/statistics.csv' # The tool's statistics on spots for each SVI\n",
    "    cluster_file=tool_res_dir+'/raw_cluster.csv' # The tool's SVIs clustering results\n",
    "    domain_file='./'+dataset_name+'/domain.xlsx' # spot labels the same as MODE 1\n",
    "    out_dir='./simulation_SVExp/'+dataset_name+'/'\n",
    "    ground_truth_file=out_dir+'/ground_truth.csv' # ground truth clusters (MODE 1's output)\n",
    "    \n",
    "    roi_with_c={'linear':'Healthy_1', 'negative-linear':'IDC_8', 'non-linear':'IDC_4', 'mixed':'IDC_2'} # Dictionary corresponding to MODE 1's setting of ROIs and Correlations\n",
    "    \n",
    "    ### Validation\n",
    "    lrs = pd.read_csv(lr_file, index_col=0)\n",
    "    clusters = pd.read_csv(cluster_file, index_col='g').sort_index()\n",
    "    domains = pd.read_excel(domain_file, header=0, index_col=0)\n",
    "    domains = np.array(domains.iloc[:,2].tolist())\n",
    "    ground_truth = pd.read_csv(ground_truth_file, sep='\\t', index_col=0).sort_index()\n",
    "    validate(lrs, clusters, roi_with_c, domains, ground_truth, out_dir)\n",
    "    plot_validation(out_dir+'si_score.csv', out_dir)"
   ]
  },
  {
   "cell_type": "code",
   "execution_count": null,
   "id": "ab210350-ba1c-416d-8617-eb4b4939cd69",
   "metadata": {},
   "outputs": [],
   "source": []
  }
 ],
 "metadata": {
  "kernelspec": {
   "display_name": "Python 3 (ipykernel)",
   "language": "python",
   "name": "python3"
  },
  "language_info": {
   "codemirror_mode": {
    "name": "ipython",
    "version": 3
   },
   "file_extension": ".py",
   "mimetype": "text/x-python",
   "name": "python",
   "nbconvert_exporter": "python",
   "pygments_lexer": "ipython3",
   "version": "3.11.4"
  }
 },
 "nbformat": 4,
 "nbformat_minor": 5
}
